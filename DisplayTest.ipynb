{
 "cells": [
  {
   "cell_type": "code",
   "execution_count": null,
   "metadata": {},
   "outputs": [],
   "source": [
    "from TicTacToe import TicTacToe\n",
    "from Display import ConsoleDisplay, TicTacToeDisplay\n",
    "from Agent import RandomAgent, HumanAgent\n",
    "\n",
    "rows = 4\n",
    "win_length = 3\n",
    "agent1 = RandomAgent(player='X', switching=False)\n",
    "agent2 = RandomAgent(player='O', switching=False)\n",
    "# display = ConsoleDisplay(rows=rows, cols=rows, waiting_time=0.5)\n",
    "display = TicTacToeDisplay(rows=rows, cols=rows, waiting_time=0.5)\n",
    "game = TicTacToe(agent1, agent2, display=display, rows=rows, cols=rows, win_length=win_length)"
   ]
  }
 ],
 "metadata": {
  "kernelspec": {
   "display_name": "venv",
   "language": "python",
   "name": "python3"
  },
  "language_info": {
   "codemirror_mode": {
    "name": "ipython",
    "version": 3
   },
   "file_extension": ".py",
   "mimetype": "text/x-python",
   "name": "python",
   "nbconvert_exporter": "python",
   "pygments_lexer": "ipython3",
   "version": "3.12.7"
  }
 },
 "nbformat": 4,
 "nbformat_minor": 2
}
