{
 "cells": [
  {
   "cell_type": "code",
   "execution_count": 6,
   "metadata": {},
   "outputs": [
    {
     "name": "stdout",
     "output_type": "stream",
     "text": [
      "Outcomes:\n",
      "X wins: 0.4542, O wins: 0.41, draws: 0.1358\n"
     ]
    }
   ],
   "source": [
    "# Let the games begin\n",
    "\n",
    "from Matrix import Matrix, QMatrix\n",
    "from SymmetricMatrix import SymmetricMatrix, QSymmetricMatrix\n",
    "from playGame import play_game\n",
    "\n",
    "# Parameters\n",
    "params = {\n",
    "    'Q_initial_value' : 1.0, # initial Q value\n",
    "    'alpha_start' : 0.1,  # initial learning rate\n",
    "    'alpha_min' : 0.1, # minimum learning rate\n",
    "    'gamma' : 0.9,  # discount factor\n",
    "    'epsilon_start' : 0.5,  # initial exploration rate\n",
    "    'epsilon_min' : 0.25, # minimum exploration rate\n",
    "    'waiting_time' : 1.0, # waiting in seconds for display\n",
    "    'episode' : 0, # number of episodes played during training\n",
    "    'outcomes' : {'X' : 0, 'O' : 0, 'D' : 0}, # dictionary to save the outcomes for games ('X' = X wins, 'O' = O wins, 'D' = draws) \n",
    "    'nr_of_episodes' : 500000, # number of episodes for training\n",
    "    'eps' : {'X' : -1.0, 'O' : -1.0}, # epsilon values for non-training determine how randomized the computer plays\n",
    "}\n",
    "\n",
    "# Initialize matrices\n",
    "# # Q = QMatrix(file='Q.pkl')\n",
    "# Q = QMatrix(default_value=params['Q_initial_value'])\n",
    "# Visits = Matrix(default_value=0)\n",
    "# Rewards = Matrix(default_value=0)\n",
    "\n",
    "Q = QSymmetricMatrix(file='SymmetricQ.pkl')\n",
    "# Q = QSymmetricMatrix(default_value=params['Q_initial_value'])\n",
    "Visits = SymmetricMatrix(default_value=0)\n",
    "Rewards = SymmetricMatrix(default_value=0.0)\n",
    "\n",
    "matrices = (Q, Visits, Rewards)\n",
    "\n",
    "nr_of_episodes = 5000\n",
    "params['nr_of_episodes'] = nr_of_episodes\n",
    "params['episode'] = 0\n",
    "\n",
    "flags = {\n",
    "    'training': True,\n",
    "    'display': False,\n",
    "    'interactive': False\n",
    "}\n",
    "for _ in range(nr_of_episodes):\n",
    "    play_game(matrices, params, flags=flags)\n",
    "    params['episode'] += 1\n",
    "\n",
    "print(\"Outcomes:\")\n",
    "print(f\"X wins: {params['outcomes']['X']/nr_of_episodes}, O wins: {params['outcomes']['O']/nr_of_episodes}, draws: {params['outcomes']['D']/nr_of_episodes}\")"
   ]
  },
  {
   "cell_type": "code",
   "execution_count": 7,
   "metadata": {},
   "outputs": [
    {
     "name": "stdout",
     "output_type": "stream",
     "text": [
      "Outcomes with players choosing actions based on Q-values:\n",
      "X wins: 0.1418, O wins: 0.6998, draws: 0.1584\n"
     ]
    }
   ],
   "source": [
    "nr_of_episodes = 5000\n",
    "params['nr_of_episodes'] = nr_of_episodes\n",
    "params['eps'] = {'X' : -0.1, 'O' : -0.1}\n",
    "params['outcomes'] = {'X' : 0, 'O' : 0, 'D' : 0}\n",
    "flags = {\n",
    "    'training': False,\n",
    "    'display': False,\n",
    "    'interactive': False\n",
    "}\n",
    "for _ in range(nr_of_episodes):\n",
    "    play_game(matrices, params, flags=flags)\n",
    "\n",
    "print(\"Outcomes with players choosing actions based on Q-values:\")\n",
    "print(f\"X wins: {params['outcomes']['X']/nr_of_episodes}, O wins: {params['outcomes']['O']/nr_of_episodes}, draws: {params['outcomes']['D']/nr_of_episodes}\")"
   ]
  },
  {
   "cell_type": "markdown",
   "metadata": {},
   "source": [
    "Outcomes with players choosing action based on Q-values:\n",
    "X wins: 0.138, O wins: 0.6906, draws: 0.1714"
   ]
  },
  {
   "cell_type": "code",
   "execution_count": 8,
   "metadata": {},
   "outputs": [],
   "source": [
    "# import dill\n",
    "\n",
    "# with open('SymmetricQ.pkl', 'wb') as f:\n",
    "#     dill.dump(Q.get(), f)"
   ]
  },
  {
   "cell_type": "code",
   "execution_count": 9,
   "metadata": {},
   "outputs": [
    {
     "name": "stdout",
     "output_type": "stream",
     "text": [
      "\n",
      "\n",
      " O  |  X  |  X \n",
      "----+-----+----\n",
      " O  |     |  O \n",
      "----+-----+----\n",
      " O  |  X  |  X \n",
      "\n",
      "\n",
      "Player O wins!\n",
      "\n"
     ]
    }
   ],
   "source": [
    "flags = {\n",
    "    'training': False,\n",
    "    'display': True,\n",
    "    'interactive': False\n",
    "}\n",
    "play_game(matrices, params, flags=flags)"
   ]
  },
  {
   "cell_type": "code",
   "execution_count": 10,
   "metadata": {},
   "outputs": [],
   "source": [
    "flags = {\n",
    "    'training': False,\n",
    "    'display': True,\n",
    "    'interactive': True\n",
    "}\n",
    "# play_game(matrices, params, flags=flags)"
   ]
  },
  {
   "cell_type": "code",
   "execution_count": null,
   "metadata": {},
   "outputs": [],
   "source": [
    "import matplotlib.pyplot as plt\n",
    "\n",
    "q_matrix = Q.get()\n",
    "print(f\"Total unique states encountered: {len(q_matrix.keys())}\")\n",
    "\n",
    "# Extract all Q-values from the nested dictionary\n",
    "all_q_values = [q for actions in q_matrix.values() for q in actions.values()]\n",
    "print(f\"Total number of elements in Q: {len(all_q_values)}\")\n",
    "\n",
    "mean_q = np.mean(all_q_values)\n",
    "median_q = np.median(all_q_values)\n",
    "std_q = np.std(all_q_values)\n",
    "min_q = np.min(all_q_values)\n",
    "max_q = np.max(all_q_values)\n",
    "\n",
    "print(\"Q-value Statistics:\")\n",
    "print(f\"Mean: {mean_q}\")\n",
    "print(f\"Median: {median_q}\")\n",
    "print(f\"Standard Deviation: {std_q}\")\n",
    "print(f\"Minimum: {min_q}\")\n",
    "print(f\"Maximum: {max_q}\")\n",
    "\n",
    "plt.figure(figsize=(10, 6))\n",
    "plt.hist(all_q_values, bins=20, edgecolor='black', alpha=0.7)\n",
    "plt.title(\"Histogram of Q-values\")\n",
    "plt.xlabel(\"Q-value\")\n",
    "plt.ylabel(\"Frequency\")\n",
    "plt.grid(axis='y', linestyle='--', alpha=0.7)\n",
    "plt.show()\n",
    "\n",
    "# with open('Q_optimal.pkl', 'wb') as f:\n",
    "#     dill.dump(Q, f)"
   ]
  },
  {
   "cell_type": "markdown",
   "metadata": {},
   "source": [
    "Number of canonical boards: 1520\n",
    "Number of canonical state-action pairs: 4808"
   ]
  },
  {
   "cell_type": "code",
   "execution_count": null,
   "metadata": {},
   "outputs": [],
   "source": [
    "visits = Visits.get()\n",
    "all_v = [v for states in visits.values() for v in states.values()]\n",
    "\n",
    "print(\"Statistics of visited state-action pairs:\")\n",
    "print(f\"Number of state-action pairs visited: {len(all_v)}\")\n",
    "\n",
    "mean_v = np.mean(all_v)\n",
    "median_v = np.median(all_v)\n",
    "std_v = np.std(all_v)\n",
    "min_v = np.min(all_v)\n",
    "max_v = np.max(all_v)\n",
    "\n",
    "print(f\"Mean: {mean_v}\")\n",
    "print(f\"Median: {median_v}\")\n",
    "print(f\"Standard Deviation: {std_v}\")\n",
    "print(f\"Minimum: {min_v}\")\n",
    "print(f\"Maximum: {max_v}\")\n",
    "\n",
    "plt.figure(figsize=(10, 6))\n",
    "plt.hist(all_v, bins=20, edgecolor='black', alpha=0.7)\n",
    "plt.title(\"Histogram of visited states\")\n",
    "plt.xlabel(\"Visits\")\n",
    "plt.ylabel(\"States\")\n",
    "plt.grid(axis='y', linestyle='--', alpha=0.7)\n",
    "plt.show()"
   ]
  },
  {
   "cell_type": "code",
   "execution_count": null,
   "metadata": {},
   "outputs": [],
   "source": [
    "rewards = Rewards.get()\n",
    "all_r = [r for states in rewards.values() for r in states.values()]\n",
    "all_rX = [r for states in rewards.values() for r in states.values() if r == 1.0]\n",
    "all_rO = [r for states in rewards.values() for r in states.values() if r == -1.0]\n",
    "all_rD = [r for states in rewards.values() for r in states.values() if r == 0.5]\n",
    "\n",
    "print(\"Statistics of rewards\")\n",
    "print(f\"Number of state-action pairs with rewards: {len(all_r)}\")\n",
    "print(f\"Number of state-action pairs with rewards for X: {len(all_rX)}\")\n",
    "print(f\"Number of state-action pairs with rewards for O: {len(all_rO)}\")\n",
    "print(f\"Number of state-action pairs with rewards for D: {len(all_rD)}\")"
   ]
  }
 ],
 "metadata": {
  "kernelspec": {
   "display_name": "venv",
   "language": "python",
   "name": "python3"
  },
  "language_info": {
   "codemirror_mode": {
    "name": "ipython",
    "version": 3
   },
   "file_extension": ".py",
   "mimetype": "text/x-python",
   "name": "python",
   "nbconvert_exporter": "python",
   "pygments_lexer": "ipython3",
   "version": "3.9.6"
  }
 },
 "nbformat": 4,
 "nbformat_minor": 2
}
