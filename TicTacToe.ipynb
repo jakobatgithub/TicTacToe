{
 "cells": [
  {
   "cell_type": "code",
   "execution_count": null,
   "metadata": {},
   "outputs": [],
   "source": [
    "# Let the games begin\n",
    "\n",
    "from TicTacToe import TicTacToe\n",
    "from Agent import RandomAgent, HumanAgent, LearningAgent\n",
    "\n",
    "params = {\n",
    "    'Q_initial_value' : 0.0, # initial Q value\n",
    "    'alpha_start' : 0.1,  # initial learning rate\n",
    "    'alpha_min' : 0.1, # minimum learning rate\n",
    "    'gamma' : 0.9,  # discount factor\n",
    "    'epsilon_start' : 0.5,  # initial exploration rate\n",
    "    'epsilon_min' : 0.25, # minimum exploration rate\n",
    "    'waiting_time' : 1.0, # waiting in seconds for display\n",
    "    'nr_of_episodes' : 500000, # number of episodes for training\n",
    "    'rewards' : {'W' : 1.0, 'L' : -1.0, 'D' : 0.0}, # dictionary for rewards ('W' = win, 'L' = loose, 'D' = draw)\n",
    "}\n",
    "\n",
    "nr_of_episodes = 500000\n",
    "params['nr_of_episodes'] = nr_of_episodes\n",
    "outcomes = {'X' : 0, 'O' : 0, 'D' : 0}\n",
    "\n",
    "agent_o = LearningAgent('O', params)\n",
    "agent_x = RandomAgent('X')\n",
    "game = TicTacToe(agent_x, agent_o, display=False)\n",
    "\n",
    "for _ in range(nr_of_episodes):\n",
    "    outcome = game.play()\n",
    "    outcomes[outcome] += 1\n",
    "\n",
    "print(\"Outcomes:\")\n",
    "print(f\"X wins: {outcomes['X']/nr_of_episodes}, O wins: {outcomes['O']/nr_of_episodes}, draws: {outcomes['D']/nr_of_episodes}\")"
   ]
  },
  {
   "cell_type": "markdown",
   "metadata": {},
   "source": [
    "Outcomes with players choosing action based on Q-values:\n",
    "X wins: 0.138, O wins: 0.6906, draws: 0.1714"
   ]
  },
  {
   "cell_type": "code",
   "execution_count": null,
   "metadata": {},
   "outputs": [],
   "source": [
    "# import dill\n",
    "\n",
    "# with open('SymmetricQ.pkl', 'wb') as f:\n",
    "#     dill.dump(Q.get(), f)"
   ]
  },
  {
   "cell_type": "code",
   "execution_count": null,
   "metadata": {},
   "outputs": [],
   "source": [
    "random_outcomes = {'X' : 91/138, 'O' : 44/138, 'D' : 3/138}\n",
    "print(random_outcomes)"
   ]
  },
  {
   "cell_type": "code",
   "execution_count": null,
   "metadata": {},
   "outputs": [],
   "source": [
    "import numpy as np\n",
    "\n",
    "from playGame import get_empty_positions\n",
    "\n",
    "def displayQ(Q, board):\n",
    "    actions = get_empty_positions(board)\n",
    "    Qs = [f\"{Q.get(board, action):.5f}\" for action in actions]\n",
    "    Qboard = list(board)\n",
    "    for i, action in enumerate(actions):\n",
    "        Qboard[action] = Qs[i]\n",
    "\n",
    "    print(f\"{np.array(Qboard).reshape(3,3)}\")\n",
    "\n",
    "history = params['history']\n",
    "for i in range(len(history)):\n",
    "    board, action = history[i]\n",
    "    print(f\"q value for action {action} is {Q.get(board, action)}\")\n",
    "    displayQ(Q, board)"
   ]
  },
  {
   "cell_type": "code",
   "execution_count": null,
   "metadata": {},
   "outputs": [],
   "source": [
    "from SymmetricMatrix import TotallySymmetricMatrix, QTotallySymmetricMatrix\n",
    "\n",
    "board = (' ', ' ', ' ', ' ', ' ', ' ', ' ', ' ', ' ')\n",
    "Q = QTotallySymmetricMatrix(default_value=0.0)\n",
    "Q.set(board, 0, 1.0)\n",
    "displayQ(Q, board)"
   ]
  },
  {
   "cell_type": "code",
   "execution_count": null,
   "metadata": {},
   "outputs": [],
   "source": [
    "print(Q.get(initialize_board(), 0))\n",
    "print(Q.get(initialize_board(), 2))"
   ]
  },
  {
   "cell_type": "code",
   "execution_count": null,
   "metadata": {},
   "outputs": [],
   "source": [
    "import numpy as np\n",
    "import matplotlib.pyplot as plt\n",
    "\n",
    "q_matrix = Q.get()\n",
    "# print(f\"Total unique states encountered: {len(q_matrix.keys())}\")\n",
    "\n",
    "print(Q.get(initialize_board()))\n",
    "\n",
    "# Extract all Q-values from the nested dictionary\n",
    "# all_q_values = [q for actions in q_matrix.values() for q in actions.values()]\n",
    "all_q_values = [q for q in q_matrix.values()]\n",
    "print(f\"Total number of elements in Q: {len(all_q_values)}\")\n",
    "\n",
    "mean_q = np.mean(all_q_values)\n",
    "median_q = np.median(all_q_values)\n",
    "std_q = np.std(all_q_values)\n",
    "min_q = np.min(all_q_values)\n",
    "max_q = np.max(all_q_values)\n",
    "\n",
    "print(\"Q-value Statistics:\")\n",
    "print(f\"Mean: {mean_q}\")\n",
    "print(f\"Median: {median_q}\")\n",
    "print(f\"Standard Deviation: {std_q}\")\n",
    "print(f\"Minimum: {min_q}\")\n",
    "print(f\"Maximum: {max_q}\")\n",
    "\n",
    "plt.figure(figsize=(10, 6))\n",
    "plt.hist(all_q_values, bins=20, edgecolor='black', alpha=0.7)\n",
    "plt.title(\"Histogram of Q-values\")\n",
    "plt.xlabel(\"Q-value\")\n",
    "plt.ylabel(\"Frequency\")\n",
    "plt.grid(axis='y', linestyle='--', alpha=0.7)\n",
    "plt.show()"
   ]
  },
  {
   "cell_type": "markdown",
   "metadata": {},
   "source": [
    "Number of canonical boards: 1520\n",
    "Number of canonical state-action pairs: 4808"
   ]
  },
  {
   "cell_type": "code",
   "execution_count": null,
   "metadata": {},
   "outputs": [],
   "source": [
    "visits = Visits.get()\n",
    "# all_v = [v for states in visits.values() for v in states.values()]\n",
    "all_v = [q for q in visits.values()]\n",
    "\n",
    "print(\"Statistics of visited state-action pairs:\")\n",
    "print(f\"Number of state-action pairs visited: {len(all_v)}\")\n",
    "\n",
    "mean_v = np.mean(all_v)\n",
    "median_v = np.median(all_v)\n",
    "std_v = np.std(all_v)\n",
    "min_v = np.min(all_v)\n",
    "max_v = np.max(all_v)\n",
    "\n",
    "print(f\"Mean: {mean_v}\")\n",
    "print(f\"Median: {median_v}\")\n",
    "print(f\"Standard Deviation: {std_v}\")\n",
    "print(f\"Minimum: {min_v}\")\n",
    "print(f\"Maximum: {max_v}\")\n",
    "\n",
    "plt.figure(figsize=(10, 6))\n",
    "plt.hist(all_v, bins=20, edgecolor='black', alpha=0.7)\n",
    "plt.title(\"Histogram of visited states\")\n",
    "plt.xlabel(\"Visits\")\n",
    "plt.ylabel(\"States\")\n",
    "plt.grid(axis='y', linestyle='--', alpha=0.7)\n",
    "plt.show()"
   ]
  },
  {
   "cell_type": "code",
   "execution_count": null,
   "metadata": {},
   "outputs": [],
   "source": [
    "rewards = Rewards.get()\n",
    "\n",
    "# all_r = [r for states in rewards.values() for r in states.values()]\n",
    "# all_rX = [r for states in rewards.values() for r in states.values() if r == 1.0]\n",
    "# all_rO = [r for states in rewards.values() for r in states.values() if r == -1.0]\n",
    "# all_rD = [r for states in rewards.values() for r in states.values() if r == 0.5]\n",
    "\n",
    "all_r = [r for r in rewards.values()]\n",
    "all_rX = [r for r in rewards.values() if r == 1.0]\n",
    "all_rO = [r for r in rewards.values() if r == -1.0]\n",
    "all_rD = [r for r in rewards.values() if r == 0.5]\n",
    "\n",
    "print(\"Statistics of rewards\")\n",
    "print(f\"Number of state-action pairs with rewards: {len(all_r)}\")\n",
    "print(f\"Number of state-action pairs with rewards for X: {len(all_rX)}\")\n",
    "print(f\"Number of state-action pairs with rewards for O: {len(all_rO)}\")\n",
    "print(f\"Number of state-action pairs with rewards for D: {len(all_rD)}\")"
   ]
  }
 ],
 "metadata": {
  "kernelspec": {
   "display_name": "venv",
   "language": "python",
   "name": "python3"
  },
  "language_info": {
   "codemirror_mode": {
    "name": "ipython",
    "version": 3
   },
   "file_extension": ".py",
   "mimetype": "text/x-python",
   "name": "python",
   "nbconvert_exporter": "python",
   "pygments_lexer": "ipython3",
   "version": "3.9.6"
  }
 },
 "nbformat": 4,
 "nbformat_minor": 2
}
