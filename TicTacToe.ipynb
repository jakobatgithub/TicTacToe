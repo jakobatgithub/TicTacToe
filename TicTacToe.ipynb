{
 "cells": [
  {
   "cell_type": "code",
   "execution_count": 1,
   "metadata": {},
   "outputs": [
    {
     "name": "stderr",
     "output_type": "stream",
     "text": [
      "/Users/jakob/TicTacToe/venv/lib/python3.9/site-packages/urllib3/__init__.py:35: NotOpenSSLWarning: urllib3 v2 only supports OpenSSL 1.1.1+, currently the 'ssl' module is compiled with 'LibreSSL 2.8.3'. See: https://github.com/urllib3/urllib3/issues/3020\n",
      "  warnings.warn(\n",
      "2024-11-11 16:16:32.530237: I metal_plugin/src/device/metal_device.cc:1154] Metal device set to: Apple M1\n",
      "2024-11-11 16:16:32.530264: I metal_plugin/src/device/metal_device.cc:296] systemMemory: 16.00 GB\n",
      "2024-11-11 16:16:32.530270: I metal_plugin/src/device/metal_device.cc:313] maxCacheSize: 5.33 GB\n",
      "2024-11-11 16:16:32.530291: I tensorflow/core/common_runtime/pluggable_device/pluggable_device_factory.cc:305] Could not identify NUMA node of platform GPU ID 0, defaulting to 0. Your kernel may not have been built with NUMA support.\n",
      "2024-11-11 16:16:32.530306: I tensorflow/core/common_runtime/pluggable_device/pluggable_device_factory.cc:271] Created TensorFlow device (/job:localhost/replica:0/task:0/device:GPU:0 with 0 MB memory) -> physical PluggableDevice (device: 0, name: METAL, pci bus id: <undefined>)\n"
     ]
    },
    {
     "data": {
      "text/html": [
       "<pre style=\"white-space:pre;overflow-x:auto;line-height:normal;font-family:Menlo,'DejaVu Sans Mono',consolas,'Courier New',monospace\"><span style=\"font-weight: bold\">Model: \"sequential\"</span>\n",
       "</pre>\n"
      ],
      "text/plain": [
       "\u001b[1mModel: \"sequential\"\u001b[0m\n"
      ]
     },
     "metadata": {},
     "output_type": "display_data"
    },
    {
     "data": {
      "text/html": [
       "<pre style=\"white-space:pre;overflow-x:auto;line-height:normal;font-family:Menlo,'DejaVu Sans Mono',consolas,'Courier New',monospace\">┏━━━━━━━━━━━━━━━━━━━━━━━━━━━━━━━━━┳━━━━━━━━━━━━━━━━━━━━━━━━┳━━━━━━━━━━━━━━━┓\n",
       "┃<span style=\"font-weight: bold\"> Layer (type)                    </span>┃<span style=\"font-weight: bold\"> Output Shape           </span>┃<span style=\"font-weight: bold\">       Param # </span>┃\n",
       "┡━━━━━━━━━━━━━━━━━━━━━━━━━━━━━━━━━╇━━━━━━━━━━━━━━━━━━━━━━━━╇━━━━━━━━━━━━━━━┩\n",
       "│ dense (<span style=\"color: #0087ff; text-decoration-color: #0087ff\">Dense</span>)                   │ (<span style=\"color: #00d7ff; text-decoration-color: #00d7ff\">None</span>, <span style=\"color: #00af00; text-decoration-color: #00af00\">16</span>)             │           <span style=\"color: #00af00; text-decoration-color: #00af00\">160</span> │\n",
       "├─────────────────────────────────┼────────────────────────┼───────────────┤\n",
       "│ dense_1 (<span style=\"color: #0087ff; text-decoration-color: #0087ff\">Dense</span>)                 │ (<span style=\"color: #00d7ff; text-decoration-color: #00d7ff\">None</span>, <span style=\"color: #00af00; text-decoration-color: #00af00\">16</span>)             │           <span style=\"color: #00af00; text-decoration-color: #00af00\">272</span> │\n",
       "├─────────────────────────────────┼────────────────────────┼───────────────┤\n",
       "│ dense_2 (<span style=\"color: #0087ff; text-decoration-color: #0087ff\">Dense</span>)                 │ (<span style=\"color: #00d7ff; text-decoration-color: #00d7ff\">None</span>, <span style=\"color: #00af00; text-decoration-color: #00af00\">9</span>)              │           <span style=\"color: #00af00; text-decoration-color: #00af00\">153</span> │\n",
       "└─────────────────────────────────┴────────────────────────┴───────────────┘\n",
       "</pre>\n"
      ],
      "text/plain": [
       "┏━━━━━━━━━━━━━━━━━━━━━━━━━━━━━━━━━┳━━━━━━━━━━━━━━━━━━━━━━━━┳━━━━━━━━━━━━━━━┓\n",
       "┃\u001b[1m \u001b[0m\u001b[1mLayer (type)                   \u001b[0m\u001b[1m \u001b[0m┃\u001b[1m \u001b[0m\u001b[1mOutput Shape          \u001b[0m\u001b[1m \u001b[0m┃\u001b[1m \u001b[0m\u001b[1m      Param #\u001b[0m\u001b[1m \u001b[0m┃\n",
       "┡━━━━━━━━━━━━━━━━━━━━━━━━━━━━━━━━━╇━━━━━━━━━━━━━━━━━━━━━━━━╇━━━━━━━━━━━━━━━┩\n",
       "│ dense (\u001b[38;5;33mDense\u001b[0m)                   │ (\u001b[38;5;45mNone\u001b[0m, \u001b[38;5;34m16\u001b[0m)             │           \u001b[38;5;34m160\u001b[0m │\n",
       "├─────────────────────────────────┼────────────────────────┼───────────────┤\n",
       "│ dense_1 (\u001b[38;5;33mDense\u001b[0m)                 │ (\u001b[38;5;45mNone\u001b[0m, \u001b[38;5;34m16\u001b[0m)             │           \u001b[38;5;34m272\u001b[0m │\n",
       "├─────────────────────────────────┼────────────────────────┼───────────────┤\n",
       "│ dense_2 (\u001b[38;5;33mDense\u001b[0m)                 │ (\u001b[38;5;45mNone\u001b[0m, \u001b[38;5;34m9\u001b[0m)              │           \u001b[38;5;34m153\u001b[0m │\n",
       "└─────────────────────────────────┴────────────────────────┴───────────────┘\n"
      ]
     },
     "metadata": {},
     "output_type": "display_data"
    },
    {
     "data": {
      "text/html": [
       "<pre style=\"white-space:pre;overflow-x:auto;line-height:normal;font-family:Menlo,'DejaVu Sans Mono',consolas,'Courier New',monospace\"><span style=\"font-weight: bold\"> Total params: </span><span style=\"color: #00af00; text-decoration-color: #00af00\">585</span> (2.29 KB)\n",
       "</pre>\n"
      ],
      "text/plain": [
       "\u001b[1m Total params: \u001b[0m\u001b[38;5;34m585\u001b[0m (2.29 KB)\n"
      ]
     },
     "metadata": {},
     "output_type": "display_data"
    },
    {
     "data": {
      "text/html": [
       "<pre style=\"white-space:pre;overflow-x:auto;line-height:normal;font-family:Menlo,'DejaVu Sans Mono',consolas,'Courier New',monospace\"><span style=\"font-weight: bold\"> Trainable params: </span><span style=\"color: #00af00; text-decoration-color: #00af00\">585</span> (2.29 KB)\n",
       "</pre>\n"
      ],
      "text/plain": [
       "\u001b[1m Trainable params: \u001b[0m\u001b[38;5;34m585\u001b[0m (2.29 KB)\n"
      ]
     },
     "metadata": {},
     "output_type": "display_data"
    },
    {
     "data": {
      "text/html": [
       "<pre style=\"white-space:pre;overflow-x:auto;line-height:normal;font-family:Menlo,'DejaVu Sans Mono',consolas,'Courier New',monospace\"><span style=\"font-weight: bold\"> Non-trainable params: </span><span style=\"color: #00af00; text-decoration-color: #00af00\">0</span> (0.00 B)\n",
       "</pre>\n"
      ],
      "text/plain": [
       "\u001b[1m Non-trainable params: \u001b[0m\u001b[38;5;34m0\u001b[0m (0.00 B)\n"
      ]
     },
     "metadata": {},
     "output_type": "display_data"
    },
    {
     "name": "stderr",
     "output_type": "stream",
     "text": [
      "2024-11-11 16:16:32.782806: I tensorflow/core/grappler/optimizers/custom_graph_optimizer_registry.cc:117] Plugin optimizer for device_type GPU is enabled.\n"
     ]
    },
    {
     "name": "stdout",
     "output_type": "stream",
     "text": [
      "target_update_count = 1, train_step_count = 150, episode_count = 49, games_moves_count = 183, q_update_count = 4800\n",
      "target_update_count = 2, train_step_count = 300, episode_count = 92, games_moves_count = 333, q_update_count = 9600\n",
      "target_update_count = 3, train_step_count = 450, episode_count = 137, games_moves_count = 483, q_update_count = 14400\n",
      "target_update_count = 4, train_step_count = 600, episode_count = 179, games_moves_count = 633, q_update_count = 19200\n",
      "target_update_count = 5, train_step_count = 750, episode_count = 220, games_moves_count = 783, q_update_count = 24000\n",
      "Outcomes during learning:\n",
      "X wins: 0.848, O wins: 0.096, draws: 0.056\n"
     ]
    }
   ],
   "source": [
    "# Let the games begin\n",
    "\n",
    "import copy\n",
    "\n",
    "from TicTacToe import TicTacToe\n",
    "from Agent import RandomAgent, HumanAgent\n",
    "from QAgent import QLearningAgent, QPlayingAgent\n",
    "from DeepQAgent import DeepQLearningAgent, DeepQPlayingAgent\n",
    "from Evaluation import plot_graphs\n",
    "\n",
    "params = {\n",
    "    'Q_initial_value' : 0.0, # initial Q value\n",
    "    'nr_of_episodes' : 500000, # number of episodes for training\n",
    "    'epsilon_start' : 0.15,  # initial exploration rate\n",
    "    'epsilon_min' : 0.005, # minimum exploration rate\n",
    "    'alpha_start' : 0.1,  # initial learning rate\n",
    "    'alpha_min' : 0.1, # minimum learning rate\n",
    "    'gamma' : 0.9,  # discount factor\n",
    "    'rewards' : {'X': {'X' : 1.0, 'O' : -1.0, 'D' : 0.0}, # rewards dictionary for X\n",
    "                 'O': {'O' : 1.0, 'X' : -1.0, 'D' : 0.0}, # rewards dictionary for O\n",
    "                },\n",
    "    'switching' : False, # switch between X and O\n",
    "    'debug' : False, # print debug messages\n",
    "    'width' : 3, # width = height of the board\n",
    "    'lazy_evaluation' : True, # use lazy evaluation\n",
    "    'batch_size' : 32, # batch size for deep learning\n",
    "    # 'target_update_frequency' : 250, # target network update frequency\n",
    "    'target_update_frequency' : 150, # target network update frequency\n",
    "    'optimal_actions' : [], # list of optimal actions (deprecated)\n",
    "    'loss' : [], # list of losses\n",
    "    'avg_action_value' : [], # list of average action values\n",
    "    }\n",
    "\n",
    "# nr_of_episodes = 1000\n",
    "nr_of_episodes = 250\n",
    "params['nr_of_episodes'] = nr_of_episodes\n",
    "\n",
    "paramsX = copy.deepcopy(params)\n",
    "paramsO = copy.deepcopy(params)\n",
    "paramsX['player'] = 'X'\n",
    "paramsX['Q_optimal'] = 'TotallySymmetricQ_optimalX.pkl'\n",
    "paramsO['player'] = 'O'\n",
    "paramsO['Q_optimal'] = 'TotallySymmetricQ_optimalO.pkl'\n",
    "\n",
    "outcomes = {'X' : 0, 'O' : 0, 'D' : 0}\n",
    "\n",
    "learning_agent1 = DeepQLearningAgent(paramsX)\n",
    "# learning_agent2 = DeepQLearningAgent(paramsO)\n",
    "random_agent1 = RandomAgent(player='O', switching=False)\n",
    "\n",
    "game = TicTacToe(learning_agent1, random_agent1, display=False)\n",
    "# game = TicTacToe(learning_agent1, learning_agent2, display=False)\n",
    "\n",
    "for episode in range(nr_of_episodes):\n",
    "    outcome = game.play()\n",
    "    outcomes[outcome] += 1\n",
    "\n",
    "print(\"Outcomes during learning:\")\n",
    "print(f\"X wins: {outcomes['X']/nr_of_episodes}, O wins: {outcomes['O']/nr_of_episodes}, draws: {outcomes['D']/nr_of_episodes}\")\n",
    "# print(f\"Number of independent Q-matrix entries: {len(learning_agent1.Q.get().keys())}\")"
   ]
  },
  {
   "cell_type": "code",
   "execution_count": 2,
   "metadata": {},
   "outputs": [
    {
     "name": "stdout",
     "output_type": "stream",
     "text": [
      "Outcomes during playing:\n",
      "X wins: 0.9, O wins: 0.076, draws: 0.024\n"
     ]
    }
   ],
   "source": [
    "Qmodel = learning_agent1.Qmodel\n",
    "playing_agent1 = DeepQPlayingAgent(Qmodel, player='X', switching=False)\n",
    "random_agent1 = RandomAgent(player='O', switching=False)\n",
    "\n",
    "game = TicTacToe(playing_agent1, random_agent1, display=False)\n",
    "nr_of_episodes = 250\n",
    "outcomes = {'X' : 0, 'O' : 0, 'D' : 0}\n",
    "for episode in range(nr_of_episodes):\n",
    "    outcome = game.play()\n",
    "    outcomes[outcome] += 1\n",
    "\n",
    "print(\"Outcomes during playing:\")\n",
    "print(f\"X wins: {outcomes['X']/nr_of_episodes}, O wins: {outcomes['O']/nr_of_episodes}, draws: {outcomes['D']/nr_of_episodes}\")"
   ]
  },
  {
   "cell_type": "code",
   "execution_count": 3,
   "metadata": {},
   "outputs": [
    {
     "name": "stdout",
     "output_type": "stream",
     "text": [
      "Number of losses: 857\n",
      "Number of action values: 857\n"
     ]
    },
    {
     "data": {
      "image/png": "[encoded data removed]",
      "text/plain": [
       "<Figure size 1200x500 with 2 Axes>"
      ]
     },
     "metadata": {},
     "output_type": "display_data"
    }
   ],
   "source": [
    "%matplotlib inline\n",
    "\n",
    "lossX = learning_agent1.evaluation_data['loss']\n",
    "avg_action_valueX = learning_agent1.evaluation_data['avg_action_value']\n",
    "print(f\"Number of losses: {len(lossX)}\")\n",
    "print(f\"Number of action values: {len(avg_action_valueX)}\")\n",
    "\n",
    "plot_graphs(lossX, avg_action_valueX)"
   ]
  },
  {
   "cell_type": "code",
   "execution_count": null,
   "metadata": {},
   "outputs": [],
   "source": [
    "m = 4\n",
    "k = 3\n",
    "outcomes = {'X' : 0, 'O' : 0, 'D' : 0}\n",
    "random_agent1 = RandomAgent(player='X', switching=False)\n",
    "random_agent2 = RandomAgent(player='O', switching=False)\n",
    "game = TicTacToe(random_agent1, random_agent2, display=False, waiting_time=0.05, width=m, height=m, win_length=k)\n",
    "for episode in range(nr_of_episodes):\n",
    "    outcome = game.play()\n",
    "    outcomes[outcome] += 1\n",
    "\n",
    "print(\"Outcomes for random playing:\")\n",
    "print(f\"X wins: {outcomes['X']/nr_of_episodes}, O wins: {outcomes['O']/nr_of_episodes}, draws: {outcomes['D']/nr_of_episodes}\")\n",
    "\n",
    "paramsX['width'] = m\n",
    "paramsX['Q_optimal'] = None\n",
    "\n",
    "learning_agent1 = DeepQLearningAgent(paramsX)\n",
    "\n",
    "outcomes = {'X' : 0, 'O' : 0, 'D' : 0}\n",
    "\n",
    "game = TicTacToe(learning_agent1, random_agent2, display=False, width=m, height=m, win_length=k)\n",
    "\n",
    "for episode in range(nr_of_episodes):\n",
    "    outcome = game.play()\n",
    "    outcomes[outcome] += 1\n",
    "\n",
    "print(\"\\nOutcomes during learning:\")\n",
    "print(f\"X wins: {outcomes['X']/nr_of_episodes}, O wins: {outcomes['O']/nr_of_episodes}, draws: {outcomes['D']/nr_of_episodes}\")\n",
    "print(f\"Number of independent Q-matrix entries: {len(learning_agent1.Q.get().keys())}\")"
   ]
  },
  {
   "cell_type": "code",
   "execution_count": null,
   "metadata": {},
   "outputs": [],
   "source": [
    "Q1 = learning_agent1.Q\n",
    "playing_agent1 = QPlayingAgent(Q1, player='X', switching=False)\n",
    "random_agent1 = RandomAgent(player='O', switching=False)\n",
    "\n",
    "game = TicTacToe(playing_agent1, random_agent1, display=False)\n",
    "nr_of_episodes = 20000\n",
    "outcomes = {'X' : 0, 'O' : 0, 'D' : 0}\n",
    "for episode in range(nr_of_episodes):\n",
    "    outcome = game.play()\n",
    "    outcomes[outcome] += 1\n",
    "\n",
    "print(\"Outcomes during playing:\")\n",
    "print(f\"X wins: {outcomes['X']/nr_of_episodes}, O wins: {outcomes['O']/nr_of_episodes}, draws: {outcomes['D']/nr_of_episodes}\")\n",
    "\n",
    "Q2 = learning_agent2.Q\n",
    "playing_agent2 = QPlayingAgent(Q2, player='O', switching=False)\n",
    "random_agent2 = RandomAgent(player='X', switching=False)\n",
    "\n",
    "game = TicTacToe(playing_agent2, random_agent2, display=False)\n",
    "nr_of_episodes = 20000\n",
    "outcomes = {'X' : 0, 'O' : 0, 'D' : 0}\n",
    "for episode in range(nr_of_episodes):\n",
    "    outcome = game.play()\n",
    "    outcomes[outcome] += 1\n",
    "\n",
    "print(\"Outcomes during playing:\")\n",
    "print(f\"X wins: {outcomes['X']/nr_of_episodes}, O wins: {outcomes['O']/nr_of_episodes}, draws: {outcomes['D']/nr_of_episodes}\")\n",
    "\n",
    "game = TicTacToe(playing_agent1, playing_agent2, display=False)\n",
    "nr_of_episodes = 20000\n",
    "outcomes = {'X' : 0, 'O' : 0, 'D' : 0}\n",
    "for episode in range(nr_of_episodes):\n",
    "    outcome = game.play()\n",
    "    outcomes[outcome] += 1\n",
    "\n",
    "print(\"Outcomes during playing:\")\n",
    "print(f\"X wins: {outcomes['X']/nr_of_episodes}, O wins: {outcomes['O']/nr_of_episodes}, draws: {outcomes['D']/nr_of_episodes}\")"
   ]
  },
  {
   "cell_type": "code",
   "execution_count": null,
   "metadata": {},
   "outputs": [],
   "source": [
    "import numpy as np\n",
    "from playGame import initialize_board\n",
    "\n",
    "board = initialize_board()\n",
    "np.array(board).reshape(1, -1)"
   ]
  },
  {
   "cell_type": "code",
   "execution_count": null,
   "metadata": {},
   "outputs": [],
   "source": [
    "from SymmetricMatrix import QTotallySymmetricMatrix\n",
    "from playGame import initialize_board\n",
    "Q1s = Q1.get().values()\n",
    "Q1_keys = Q1.get().keys()\n",
    "print(len(Q1_keys))\n",
    "\n",
    "Q3 = QTotallySymmetricMatrix(lazy = False)\n",
    "Q3.set(initialize_board(), 0, 1.0)\n",
    "print(Q3.get(initialize_board()))\n",
    "Q3s = Q3.get().values()\n",
    "print(len(Q3s))\n",
    "len(Q3.all_next_canonical_boards)"
   ]
  },
  {
   "cell_type": "code",
   "execution_count": null,
   "metadata": {},
   "outputs": [],
   "source": [
    "import numpy as np\n",
    "\n",
    "from playGame import get_empty_positions\n",
    "\n",
    "def displayQ(Q, board):\n",
    "    actions = get_empty_positions(board)  # Assume this function returns indices of empty positions\n",
    "    Qs = {action: f\"{Q.get(tuple(board), action):.2f}\" for action in actions}  # Get Q-values, default to 0\n",
    "    board_size = int(len(board) ** 0.5)  # Assume square board\n",
    "\n",
    "    # Create a new board layout with Q-values embedded\n",
    "    Qboard = list(board)\n",
    "    for action, value in Qs.items():\n",
    "        Qboard[action] = value  # Replace empty spots with Q-values\n",
    "\n",
    "    cell_width = 5  # Padding for centering\n",
    "\n",
    "    # Format and display the board\n",
    "    for i in range(board_size):\n",
    "        row = Qboard[i * board_size:(i + 1) * board_size]\n",
    "        formatted_row = \" | \".join(str(cell).center(cell_width) for cell in row)\n",
    "        print(formatted_row)\n",
    "        if i < board_size - 1:\n",
    "            print(\"-\" * (board_size * cell_width + (board_size - 1) * 3))  # Line separator   \n",
    "\n",
    "    print(\"\\n\")\n",
    "\n",
    "def display_history(Q, history):\n",
    "    for i in range(len(history)):\n",
    "        board, action = history[i]\n",
    "        displayQ(Q, board)\n",
    "\n",
    "Q1 = learning_agent1.Q\n",
    "historyX = paramsX['histories']\n",
    "Q2 = learning_agent2.Q\n",
    "historyO = paramsO['histories']\n",
    "for i in range(min((len(historyX), len(historyO)))):\n",
    "    board, action = historyO[i]\n",
    "    displayQ(Q2, board)\n",
    "    board, action = historyX[i]\n",
    "    displayQ(Q1, board)\n",
    "\n",
    "board, action = historyO[len(historyO) - 1]\n",
    "displayQ(Q1, board)\n",
    "\n",
    "# if max(len(historyX), len(historyO)) == len(historyX):\n",
    "#     board, action = historyX[len(historyX) - 1]\n",
    "#     displayQ(Q1, board)\n",
    "# else:\n",
    "#     board, action = historyO[len(historyO) - 1]\n",
    "#     displayQ(Q2, board)"
   ]
  },
  {
   "cell_type": "code",
   "execution_count": null,
   "metadata": {},
   "outputs": [],
   "source": [
    "import dill\n",
    "\n",
    "with open('TotallySymmetricQ_optimalX.pkl', 'wb') as f:\n",
    "    dill.dump(Q1.get(), f)\n",
    "\n",
    "with open('TotallySymmetricQ_optimalO.pkl', 'wb') as f:\n",
    "    dill.dump(Q2.get(), f)"
   ]
  },
  {
   "cell_type": "code",
   "execution_count": null,
   "metadata": {},
   "outputs": [],
   "source": [
    "random_outcomes = {'X' : 91/138, 'O' : 44/138, 'D' : 3/138}\n",
    "print(random_outcomes)"
   ]
  },
  {
   "cell_type": "code",
   "execution_count": null,
   "metadata": {},
   "outputs": [],
   "source": [
    "board = (' ', ' ', ' ', ' ', ' ', ' ', ' ', ' ', ' ')\n",
    "Q1 = learning_agent1.Q\n",
    "print(Q1.get(board).values())\n",
    "# Q2 = agent_2.Q\n",
    "# print(Q2.get(board).values())"
   ]
  },
  {
   "cell_type": "code",
   "execution_count": null,
   "metadata": {},
   "outputs": [],
   "source": [
    "from SymmetricMatrix import TotallySymmetricMatrix, QTotallySymmetricMatrix\n",
    "\n",
    "board = (' ', ' ', ' ', ' ', ' ', ' ', ' ', ' ', ' ')\n",
    "Q1 = QTotallySymmetricMatrix(default_value=0.0)\n",
    "Q1.set(board, 0, 1.0)\n",
    "displayQ(Q1, board)"
   ]
  },
  {
   "cell_type": "code",
   "execution_count": null,
   "metadata": {},
   "outputs": [],
   "source": [
    "print(Q1.get(initialize_board(), 0))\n",
    "print(Q1.get(initialize_board(), 2))"
   ]
  },
  {
   "cell_type": "code",
   "execution_count": null,
   "metadata": {},
   "outputs": [],
   "source": [
    "import numpy as np\n",
    "import matplotlib.pyplot as plt\n",
    "\n",
    "q_matrix = Q1.get()\n",
    "# print(f\"Total unique states encountered: {len(q_matrix.keys())}\")\n",
    "\n",
    "print(Q1.get(initialize_board()))\n",
    "\n",
    "# Extract all Q-values from the nested dictionary\n",
    "# all_q_values = [q for actions in q_matrix.values() for q in actions.values()]\n",
    "all_q_values = [q for q in q_matrix.values()]\n",
    "print(f\"Total number of elements in Q: {len(all_q_values)}\")\n",
    "\n",
    "mean_q = np.mean(all_q_values)\n",
    "median_q = np.median(all_q_values)\n",
    "std_q = np.std(all_q_values)\n",
    "min_q = np.min(all_q_values)\n",
    "max_q = np.max(all_q_values)\n",
    "\n",
    "print(\"Q-value Statistics:\")\n",
    "print(f\"Mean: {mean_q}\")\n",
    "print(f\"Median: {median_q}\")\n",
    "print(f\"Standard Deviation: {std_q}\")\n",
    "print(f\"Minimum: {min_q}\")\n",
    "print(f\"Maximum: {max_q}\")\n",
    "\n",
    "plt.figure(figsize=(10, 6))\n",
    "plt.hist(all_q_values, bins=20, edgecolor='black', alpha=0.7)\n",
    "plt.title(\"Histogram of Q-values\")\n",
    "plt.xlabel(\"Q-value\")\n",
    "plt.ylabel(\"Frequency\")\n",
    "plt.grid(axis='y', linestyle='--', alpha=0.7)\n",
    "plt.show()"
   ]
  },
  {
   "cell_type": "markdown",
   "metadata": {},
   "source": [
    "Number of canonical boards: 1520\n",
    "Number of canonical state-action pairs: 4808"
   ]
  },
  {
   "cell_type": "code",
   "execution_count": null,
   "metadata": {},
   "outputs": [],
   "source": [
    "visits = Visits.get()\n",
    "# all_v = [v for states in visits.values() for v in states.values()]\n",
    "all_v = [q for q in visits.values()]\n",
    "\n",
    "print(\"Statistics of visited state-action pairs:\")\n",
    "print(f\"Number of state-action pairs visited: {len(all_v)}\")\n",
    "\n",
    "mean_v = np.mean(all_v)\n",
    "median_v = np.median(all_v)\n",
    "std_v = np.std(all_v)\n",
    "min_v = np.min(all_v)\n",
    "max_v = np.max(all_v)\n",
    "\n",
    "print(f\"Mean: {mean_v}\")\n",
    "print(f\"Median: {median_v}\")\n",
    "print(f\"Standard Deviation: {std_v}\")\n",
    "print(f\"Minimum: {min_v}\")\n",
    "print(f\"Maximum: {max_v}\")\n",
    "\n",
    "plt.figure(figsize=(10, 6))\n",
    "plt.hist(all_v, bins=20, edgecolor='black', alpha=0.7)\n",
    "plt.title(\"Histogram of visited states\")\n",
    "plt.xlabel(\"Visits\")\n",
    "plt.ylabel(\"States\")\n",
    "plt.grid(axis='y', linestyle='--', alpha=0.7)\n",
    "plt.show()"
   ]
  },
  {
   "cell_type": "code",
   "execution_count": null,
   "metadata": {},
   "outputs": [],
   "source": [
    "rewards = Rewards.get()\n",
    "\n",
    "# all_r = [r for states in rewards.values() for r in states.values()]\n",
    "# all_rX = [r for states in rewards.values() for r in states.values() if r == 1.0]\n",
    "# all_rO = [r for states in rewards.values() for r in states.values() if r == -1.0]\n",
    "# all_rD = [r for states in rewards.values() for r in states.values() if r == 0.5]\n",
    "\n",
    "all_r = [r for r in rewards.values()]\n",
    "all_rX = [r for r in rewards.values() if r == 1.0]\n",
    "all_rO = [r for r in rewards.values() if r == -1.0]\n",
    "all_rD = [r for r in rewards.values() if r == 0.5]\n",
    "\n",
    "print(\"Statistics of rewards\")\n",
    "print(f\"Number of state-action pairs with rewards: {len(all_r)}\")\n",
    "print(f\"Number of state-action pairs with rewards for X: {len(all_rX)}\")\n",
    "print(f\"Number of state-action pairs with rewards for O: {len(all_rO)}\")\n",
    "print(f\"Number of state-action pairs with rewards for D: {len(all_rD)}\")"
   ]
  }
 ],
 "metadata": {
  "kernelspec": {
   "display_name": "venv",
   "language": "python",
   "name": "python3"
  },
  "language_info": {
   "codemirror_mode": {
    "name": "ipython",
    "version": 3
   },
   "file_extension": ".py",
   "mimetype": "text/x-python",
   "name": "python",
   "nbconvert_exporter": "python",
   "pygments_lexer": "ipython3",
   "version": "3.9.6"
  }
 },
 "nbformat": 4,
 "nbformat_minor": 2
}
