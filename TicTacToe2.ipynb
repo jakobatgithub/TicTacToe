{
 "cells": [
  {
   "cell_type": "code",
   "execution_count": null,
   "metadata": {
    "vscode": {
     "languageId": "plaintext"
    }
   },
   "outputs": [],
   "source": [
    "# Let the games begin\n",
    "\n",
    "from Matrix import Matrix, QMatrix\n",
    "from SymmetricMatrix import SymmetricMatrix, QSymmetricMatrix\n",
    "from SymmetricMatrix import TotallySymmetricMatrix, QTotallySymmetricMatrix\n",
    "from playGame import play_game, initialize_board, get_empty_positions\n",
    "\n",
    "\n",
    "# Parameters\n",
    "params = {\n",
    "    'Q_initial_value' : 0.0, # initial Q value\n",
    "    'alpha_start' : 0.1,  # initial learning rate\n",
    "    'alpha_min' : 0.1, # minimum learning rate\n",
    "    'gamma' : 0.99,  # discount factor\n",
    "    'epsilon_start' : 0.5,  # initial exploration rate\n",
    "    'epsilon_min' : 0.25, # minimum exploration rate\n",
    "    'waiting_time' : 1.0, # waiting in seconds for display\n",
    "    'episode' : 0, # number of episodes played during training\n",
    "    'outcomes' : {'X' : 0, 'O' : 0, 'D' : 0}, # dictionary to save the outcomes for games ('X' = X wins, 'O' = O wins, 'D' = draws) \n",
    "    'nr_of_episodes' : 500000, # number of episodes for training\n",
    "    'eps' : {'X' : -1.0, 'O' : -1.0}, # epsilon values for non-training determine how randomized the computer plays\n",
    "    'rewards' : {'X' : 1.0, 'O' : -1.0, 'D' : 0.0}, # dictionary for rewards\n",
    "}\n",
    "\n",
    "# Initialize matrices\n",
    "\n",
    "# # Q = QMatrix(file='Q.pkl')\n",
    "# Q = QMatrix(default_value=params['Q_initial_value'])\n",
    "# Visits = Matrix(default_value=0)\n",
    "# Rewards = Matrix(default_value=0)\n",
    "\n",
    "# # Q = QSymmetricMatrix(file='SymmetricQ.pkl')\n",
    "# Q = QSymmetricMatrix(default_value=params['Q_initial_value'])\n",
    "# Visits = SymmetricMatrix(default_value=0)\n",
    "# Rewards = SymmetricMatrix(default_value=0.0)\n",
    "\n",
    "# Q = QTotallySymmetricMatrix(file='TotallySymmetricQ.pkl')\n",
    "Q = QTotallySymmetricMatrix(default_value=params['Q_initial_value'])\n",
    "Visits = TotallySymmetricMatrix(default_value=0)\n",
    "Rewards = TotallySymmetricMatrix(default_value=0.0)\n",
    "\n",
    "matrices = (Q, Visits, Rewards)\n",
    "\n",
    "nr_of_episodes = 50000\n",
    "params['nr_of_episodes'] = nr_of_episodes\n",
    "params['episode'] = 0\n",
    "\n",
    "flags = {\n",
    "    'training': True,\n",
    "    'display': False,\n",
    "    'interactive': False\n",
    "}\n",
    "for _ in range(nr_of_episodes):\n",
    "    play_game(matrices, params, flags=flags)\n",
    "    params['episode'] += 1\n",
    "\n",
    "print(\"Outcomes:\")\n",
    "print(f\"X wins: {params['outcomes']['X']/nr_of_episodes}, O wins: {params['outcomes']['O']/nr_of_episodes}, draws: {params['outcomes']['D']/nr_of_episodes}\")"
   ]
  },
  {
   "cell_type": "code",
   "execution_count": null,
   "metadata": {
    "vscode": {
     "languageId": "plaintext"
    }
   },
   "outputs": [],
   "source": [
    "nr_of_episodes = 5000\n",
    "params['nr_of_episodes'] = nr_of_episodes\n",
    "params['eps'] = {'X' : -1.0, 'O' : -1.0}\n",
    "params['outcomes'] = {'X' : 0, 'O' : 0, 'D' : 0}\n",
    "flags = {\n",
    "    'training': False,\n",
    "    'display': False,\n",
    "    'interactive': False\n",
    "}\n",
    "for _ in range(nr_of_episodes):\n",
    "    play_game(matrices, params, flags=flags)\n",
    "\n",
    "print(\"Outcomes with players choosing actions based on Q-values:\")\n",
    "print(f\"X wins: {params['outcomes']['X']/nr_of_episodes}, O wins: {params['outcomes']['O']/nr_of_episodes}, draws: {params['outcomes']['D']/nr_of_episodes}\")"
   ]
  },
  {
   "cell_type": "code",
   "execution_count": null,
   "metadata": {
    "vscode": {
     "languageId": "plaintext"
    }
   },
   "outputs": [],
   "source": [
    "# import dill\n",
    "\n",
    "# with open('SymmetricQ.pkl', 'wb') as f:\n",
    "#     dill.dump(Q.get(), f)"
   ]
  },
  {
   "cell_type": "code",
   "execution_count": null,
   "metadata": {
    "vscode": {
     "languageId": "plaintext"
    }
   },
   "outputs": [],
   "source": [
    "flags = {\n",
    "    'training': False,\n",
    "    'display': True,\n",
    "    'interactive': False\n",
    "}\n",
    "# play_game(matrices, params, flags=flags)"
   ]
  },
  {
   "cell_type": "code",
   "execution_count": null,
   "metadata": {
    "vscode": {
     "languageId": "plaintext"
    }
   },
   "outputs": [],
   "source": [
    "flags = {\n",
    "    'training': False,\n",
    "    'display': True,\n",
    "    'interactive': True\n",
    "}\n",
    "play_game(matrices, params, flags=flags)"
   ]
  },
  {
   "cell_type": "code",
   "execution_count": null,
   "metadata": {
    "vscode": {
     "languageId": "plaintext"
    }
   },
   "outputs": [],
   "source": [
    "import numpy as np\n",
    "\n",
    "from playGame import get_empty_positions\n",
    "\n",
    "def displayQ(Q, board):\n",
    "    actions = get_empty_positions(board)\n",
    "    Qs = [f\"{Q.get(board, action):.5f}\" for action in actions]\n",
    "    Qboard = list(board)\n",
    "    for i, action in enumerate(actions):\n",
    "        Qboard[action] = Qs[i]\n",
    "\n",
    "    print(f\"{np.array(Qboard).reshape(3,3)}\")\n",
    "\n",
    "history = params['history']\n",
    "for i in range(len(history)):\n",
    "    board, action = history[i]\n",
    "    print(f\"q value for action {action} is {Q.get(board, action)}\")\n",
    "    displayQ(Q, board)"
   ]
  }
 ],
 "metadata": {
  "language_info": {
   "name": "python"
  }
 },
 "nbformat": 4,
 "nbformat_minor": 2
}
