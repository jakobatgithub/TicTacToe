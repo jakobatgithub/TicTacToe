{
 "cells": [
  {
   "cell_type": "code",
   "execution_count": null,
   "metadata": {},
   "outputs": [],
   "source": [
    "# Let the games begin\n",
    "\n",
    "import copy\n",
    "\n",
    "from TicTacToe import TicTacToe\n",
    "from Agent import RandomAgent, HumanAgent\n",
    "from DeepQAgent import DeepQLearningAgent, DeepQPlayingAgent\n",
    "\n",
    "params = {\n",
    "    'nr_of_episodes' : 500000, # number of episodes for training\n",
    "    'width' : 3, # width of the board, width = height\n",
    "\n",
    "    'epsilon_start' : 0.15,  # initial exploration rate\n",
    "    'epsilon_min' : 0.005, # minimum exploration rate\n",
    "    'alpha_start' : 0.1,  # initial learning rate\n",
    "    'alpha_min' : 0.1, # minimum learning rate\n",
    "    'gamma' : 0.9,  # discount factor\n",
    "\n",
    "    'switching' : False, # switch between X and O\n",
    "    'debug' : False, # print debug messages\n",
    "\n",
    "    # Parameters for QAgent\n",
    "    'lazy_evaluation' : True, # use lazy evaluation\n",
    "    'Q_initial_value' : 0.0, # initial Q value\n",
    "    'terminal_q_updates' : False, # flag to switch between terminal and immediate Q updates\n",
    "\n",
    "    # Parameters for DeepQAgent\n",
    "    'batch_size' : 32, # batch size for deep learning\n",
    "    # 'target_update_frequency' : 250, # target network update frequency\n",
    "    'target_update_frequency' : 10, # target network update frequency\n",
    "    'evaluation' : True, # save data for evaluation\n",
    "    'double_q_learning' : False, # flag to switch on double Q-learnning\n",
    "    'device' : 'cpu', # device to use, 'cpu' or 'mps' or 'cuda' \n",
    "    }\n",
    "\n",
    "width = 3\n",
    "win_length = 3\n",
    "nr_of_episodes = 5000\n",
    "params['nr_of_episodes'] = nr_of_episodes\n",
    "params['width'] = width\n",
    "\n",
    "paramsX = copy.deepcopy(params)\n",
    "paramsO = copy.deepcopy(params)\n",
    "paramsX['player'] = 'X'\n",
    "paramsO['player'] = 'O'\n",
    "\n",
    "outcomes = {'X' : 0, 'O' : 0, 'D' : 0}\n",
    "\n",
    "learning_agent1 = DeepQLearningAgent(paramsX)\n",
    "# learning_agent2 = DeepQLearningAgent(paramsO)\n",
    "random_agent2 = RandomAgent(player='O', switching=False)\n",
    "\n",
    "game = TicTacToe(learning_agent1, random_agent2, display=False, width=width, height=width, win_length=win_length)\n",
    "# game = TicTacToe(learning_agent1, learning_agent2, display=False)\n",
    "\n",
    "for episode in range(nr_of_episodes):\n",
    "    outcome = game.play()\n",
    "    outcomes[outcome] += 1\n",
    "\n",
    "print(\"Outcomes during learning:\")\n",
    "print(f\"X wins: {outcomes['X']/nr_of_episodes}, O wins: {outcomes['O']/nr_of_episodes}, draws: {outcomes['D']/nr_of_episodes}\")"
   ]
  },
  {
   "cell_type": "code",
   "execution_count": null,
   "metadata": {},
   "outputs": [],
   "source": [
    "q_network = learning_agent1.q_network\n",
    "playing_agent1 = DeepQPlayingAgent(q_network, player='X', switching=False)\n",
    "random_agent2 = RandomAgent(player='O', switching=False)\n",
    "\n",
    "game = TicTacToe(playing_agent1, random_agent2, display=False, width=width, height=width, win_length=win_length)\n",
    "nr_of_episodes = 1000\n",
    "outcomes = {'X' : 0, 'O' : 0, 'D' : 0}\n",
    "for episode in range(nr_of_episodes):\n",
    "    outcome = game.play()\n",
    "    outcomes[outcome] += 1\n",
    "\n",
    "print(\"Outcomes during playing:\")\n",
    "print(f\"X wins: {outcomes['X']/nr_of_episodes}, O wins: {outcomes['O']/nr_of_episodes}, draws: {outcomes['D']/nr_of_episodes}\")"
   ]
  },
  {
   "cell_type": "markdown",
   "metadata": {},
   "source": [
    "Using device: cpu\n",
    "Outcomes during playing:\n",
    "X wins: 0.542, O wins: 0.217, draws: 0.241"
   ]
  },
  {
   "cell_type": "code",
   "execution_count": null,
   "metadata": {},
   "outputs": [],
   "source": [
    "from Evaluation import plot_evaluation_data\n",
    "plot_evaluation_data(learning_agent1)\n",
    "# plot_evaluation_data(learning_agent2)"
   ]
  }
 ],
 "metadata": {
  "kernelspec": {
   "display_name": "venv",
   "language": "python",
   "name": "python3"
  },
  "language_info": {
   "codemirror_mode": {
    "name": "ipython",
    "version": 3
   },
   "file_extension": ".py",
   "mimetype": "text/x-python",
   "name": "python",
   "nbconvert_exporter": "python",
   "pygments_lexer": "ipython3",
   "version": "3.12.7"
  }
 },
 "nbformat": 4,
 "nbformat_minor": 2
}
